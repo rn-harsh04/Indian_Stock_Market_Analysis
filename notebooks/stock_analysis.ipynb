# Load necessary libraries
import os
import pandas as pd
import matplotlib.pyplot as plt
import seaborn as sns

# Set the directory where your CSV files are stored
data_dir = '../data/'  # Path to your data folder containing the 51 CSVs

# List all CSV files
files = [f for f in os.listdir(data_dir) if f.endswith('.csv')]

# Initialize an empty list to hold data
df_list = []

# Load each CSV file and append to the list
for file in files:
    file_path = os.path.join(data_dir, file)
    df = pd.read_csv(file_path)
    df['Company'] = file.split('.')[0]  # Add a column to identify the company
    df_list.append(df)

# Combine all dataframes into a single dataframe
stock_data = pd.concat(df_list, ignore_index=True)

# Show the first few rows of the combined dataset
print(stock_data.head())

